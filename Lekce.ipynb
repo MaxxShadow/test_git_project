{
 "cells": [
  {
   "cell_type": "markdown",
   "metadata": {},
   "source": [
    "Inicializace lokálního repozitáře. Vždy jenom jenou na začátku\n",
    "\n",
    ">> git init\n",
    "\n",
    "Informace o stavu repozitáře\n",
    ">> git status\n",
    "\n",
    ">>git branch -M main\n",
    "\n",
    ">>git add <soubor>\n",
    ">>git add *\n",
    "\n",
    ">>git commit -m \"Pocatecni commit\"\n",
    "\n",
    ">>git remote add origin https://github.com/MaxxShadow/test_git_project.git\n",
    "\n",
    ">>git push -u origin main"
   ]
  }
 ],
 "metadata": {
  "language_info": {
   "name": "python"
  }
 },
 "nbformat": 4,
 "nbformat_minor": 2
}
