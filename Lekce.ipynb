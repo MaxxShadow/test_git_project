{
 "cells": [
  {
   "cell_type": "markdown",
   "metadata": {},
   "source": [
    "**Příprava repozitáře.**\n",
    "\n",
    "Inicializace lokal repo\n",
    ">> git init\n",
    "\n",
    "Informace o stavu repozitáře\n",
    ">> git status\n",
    "\n",
    "Přejmenování main branch podle GitHub\n",
    ">>git branch -M main\n",
    "\n",
    "Připojení remote repo\n",
    ">>git remote add origin https://github.com/MaxxShadow/test_git_project.git\n",
    "\n"
   ]
  },
  {
   "cell_type": "markdown",
   "metadata": {},
   "source": [
    "**Uložení změn do remote repo**\n",
    "\n",
    ">>git add <soubor>\n",
    ">>git add *\n",
    "\n",
    ">>git commit -m \"Pocatecni commit\"\n",
    "\n",
    ">>git push -u origin main"
   ]
  },
  {
   "cell_type": "markdown",
   "metadata": {},
   "source": [
    "**Stažení změn z remote repozitory**\n",
    "\n",
    "Načtení všech změn\n",
    ">> git fetch\n",
    "\n",
    "Stažení změn\n",
    ">> git pull\n"
   ]
  }
 ],
 "metadata": {
  "language_info": {
   "name": "python"
  }
 },
 "nbformat": 4,
 "nbformat_minor": 2
}
